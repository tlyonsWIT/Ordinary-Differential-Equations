{
  "nbformat": 4,
  "nbformat_minor": 0,
  "metadata": {
    "kernelspec": {
      "display_name": "Python 3",
      "language": "python",
      "name": "python3"
    },
    "language_info": {
      "codemirror_mode": {
        "name": "ipython",
        "version": 3
      },
      "file_extension": ".py",
      "mimetype": "text/x-python",
      "name": "python",
      "nbconvert_exporter": "python",
      "pygments_lexer": "ipython3",
      "version": "3.8.3"
    },
    "colab": {
      "name": "Maths ODE 2020 - Python Workbook 5.ipynb",
      "provenance": []
    }
  },
  "cells": [
    {
      "cell_type": "markdown",
      "metadata": {
        "id": "r-33EdmDKO2l"
      },
      "source": [
        "# Maths Ordinary Differential Equations 2020\n",
        "\n",
        "## Section 3 - Numerical Mehods"
      ]
    },
    {
      "cell_type": "markdown",
      "metadata": {
        "id": "fkzZXvDcKO2z"
      },
      "source": [
        "### Import the required libraries "
      ]
    },
    {
      "cell_type": "code",
      "metadata": {
        "id": "zM_64rBaKO21"
      },
      "source": [
        "import numpy as np\n",
        "from numpy import cos, sin, exp, pi"
      ],
      "execution_count": 1,
      "outputs": []
    },
    {
      "cell_type": "code",
      "metadata": {
        "id": "1Whf26B6KO23"
      },
      "source": [
        "import matplotlib.pyplot as plt"
      ],
      "execution_count": 2,
      "outputs": []
    },
    {
      "cell_type": "markdown",
      "metadata": {
        "id": "A4BCkZCvKO25"
      },
      "source": [
        "# Euler's Method\n",
        "\n",
        "* This python workbook is for solvinf differential equations of the form\n",
        "\n",
        "$$\n",
        "\\frac{dy}{dx} - f(x,y)=0.\n",
        "$$\n",
        "\n",
        "\n",
        "* The funtion $f(x,y)$ is a function of both $x$ and $y$, and defpending on its form, it may or may not be possible to separate the variables of the ODE.\n",
        "\n",
        "\n",
        "* In any case, Euler's method will allow us to solve te ODE numerically.\n",
        "\n",
        "\n",
        "* The algorithm for Euler's method is \n",
        "$$\n",
        "y_{i+1}=y_{i}+h\\cdot f(x_{i},y_{i}).\n",
        "$$\n",
        "\n",
        "\n",
        "## Example 1\n",
        "\n",
        "* Solve the ODE\n",
        "$$\n",
        "\\frac{dy}{dx}=\\frac{x^2+y^2}{10} \\quad y(1.4)=2.5\n",
        "$$\n",
        "on the interval between $x=1.4$ and $x=1.5$ using 5 steps of Euler's method"
      ]
    },
    {
      "cell_type": "markdown",
      "metadata": {
        "id": "Ax8efOTlKO26"
      },
      "source": [
        "### Solution\n",
        "\n",
        "* We must define the function $f(x,y)=\\frac{x^2+y^2}{10}$ as follows"
      ]
    },
    {
      "cell_type": "code",
      "metadata": {
        "id": "YUmX7kqVKO29"
      },
      "source": [
        "def f(x,y):\n",
        "    return x+exp(-y)"
      ],
      "execution_count": 3,
      "outputs": []
    },
    {
      "cell_type": "markdown",
      "metadata": {
        "id": "biCSZzUxKO2-"
      },
      "source": [
        "* The algorithm for Euler's method is implemented in the cell below:"
      ]
    },
    {
      "cell_type": "code",
      "metadata": {
        "id": "PqbVe7NcKO2_"
      },
      "source": [
        "def Euler(f, x0, xn, y0, n):\n",
        "    x = np.linspace(x0,xn,n+1)\n",
        "    h=x[1]-x[0]\n",
        "    y = np.zeros(n+1)\n",
        "    for i in range(n+1):\n",
        "        y[0]=y0\n",
        "        y[i]= y[i-1]+h * f(x[i-1], y[i-1])\n",
        "        x[i]=x[i-1]+h\n",
        "    return y"
      ],
      "execution_count": 4,
      "outputs": []
    },
    {
      "cell_type": "code",
      "metadata": {
        "id": "-McmoSmhKO3B",
        "outputId": "40e7fb66-d633-48f8-98ce-dde6e2381315",
        "colab": {
          "base_uri": "https://localhost:8080/"
        }
      },
      "source": [
        "x0=1.4\n",
        "xn=1.5\n",
        "y0=2.5\n",
        "n=5\n",
        "h=(xn-x0)/n\n",
        "h,Euler(f,x0,xn,y0,n)"
      ],
      "execution_count": 5,
      "outputs": [
        {
          "output_type": "execute_result",
          "data": {
            "text/plain": [
              "(0.020000000000000018,\n",
              " array([2.5       , 2.5320417 , 2.56443163, 2.59717089, 2.63026057,\n",
              "        2.66370176]))"
            ]
          },
          "metadata": {
            "tags": []
          },
          "execution_count": 5
        }
      ]
    },
    {
      "cell_type": "markdown",
      "metadata": {
        "id": "64ceAzx6KO3F"
      },
      "source": [
        "# The Euler-Heun Method\n",
        "\n",
        "\n",
        "* The Euler-Heun method (or often just Heun's method) is a more accurate version of Euler's method.\n",
        "\n",
        "\n",
        "\n",
        "* It is a more complicated procedure, since each step of the algorithim requires us to apply an intermediate step using Euler's algorithm. "
      ]
    },
    {
      "cell_type": "code",
      "metadata": {
        "id": "D9iuM-WpKO3K"
      },
      "source": [
        "def Heun(f, x0, xn, y0, n):\n",
        "    x = np.linspace(x0,xn,n+1)\n",
        "    h=x[1]-x[0]\n",
        "    y = np.zeros(n+1)\n",
        "    ey = np.zeros(n+1)\n",
        "    for i in range(n+1):\n",
        "        y[0]=y0\n",
        "        ey[0]=y0\n",
        "        ey[i]=y[i-1]+h*f(x[i-1],y[i-1])\n",
        "        y[i]=y[i-1]+0.5*h*(f(x[i-1],y[i-1])+f(x[i],ey[i]))\n",
        "    return ey,y"
      ],
      "execution_count": 8,
      "outputs": []
    },
    {
      "cell_type": "code",
      "metadata": {
        "id": "atL-DPYSKO3L",
        "outputId": "89b93a92-f93a-498f-95e0-489b2b0b0c2e",
        "colab": {
          "base_uri": "https://localhost:8080/"
        }
      },
      "source": [
        "x0=1.2\n",
        "xn=1.28\n",
        "y0=0.5\n",
        "n=2\n",
        "h=(xn-x0)/n\n",
        "h,Heun(f,x0,xn,y0,n)"
      ],
      "execution_count": 9,
      "outputs": [
        {
          "output_type": "execute_result",
          "data": {
            "text/plain": [
              "(0.040000000000000036,\n",
              " (array([0.5       , 0.57226123, 0.64438653]),\n",
              "  array([0.5       , 0.57221558, 0.64440074])))"
            ]
          },
          "metadata": {
            "tags": []
          },
          "execution_count": 9
        }
      ]
    },
    {
      "cell_type": "code",
      "metadata": {
        "id": "c8ctRK3OKO3M"
      },
      "source": [
        ""
      ],
      "execution_count": null,
      "outputs": []
    },
    {
      "cell_type": "code",
      "metadata": {
        "id": "qFgLAcv-KO3N"
      },
      "source": [
        ""
      ],
      "execution_count": null,
      "outputs": []
    },
    {
      "cell_type": "markdown",
      "metadata": {
        "id": "K50wlrTkKO3O"
      },
      "source": [
        "# Euler's Method for Matrix Systems"
      ]
    },
    {
      "cell_type": "code",
      "metadata": {
        "id": "bnGRpwIkKO3P"
      },
      "source": [
        "def F(x,y1,y2):\n",
        "    return np.array([[x,y1+y2],[y1-y2,x]])"
      ],
      "execution_count": null,
      "outputs": []
    },
    {
      "cell_type": "code",
      "metadata": {
        "id": "-U1nO9mNKO3Q"
      },
      "source": [
        "def EulerMatrix(F, x0, xn, Ya, n):\n",
        "    x = np.linspace(x0,xn,n+1)\n",
        "    h=x[1]-x[0]\n",
        "    Y = np.array([np.zeros(n+1),np.zeros(n+1)])\n",
        "    for i in range(n+1):\n",
        "        Y[:,0]=Ya\n",
        "        Y[:,i]= Y[:,i-1]+h * np.dot(F(x[i-1], Y[0,i-1],Y[1,i-1]),Y[:,i-1])\n",
        "    return x,Y"
      ],
      "execution_count": null,
      "outputs": []
    },
    {
      "cell_type": "code",
      "metadata": {
        "id": "fUyinzAjKO3Q",
        "outputId": "77af2fac-40aa-42ab-9a4e-ed3048a5cc16"
      },
      "source": [
        "Ya=np.array([3.4,5.7])\n",
        "Ya"
      ],
      "execution_count": null,
      "outputs": [
        {
          "output_type": "execute_result",
          "data": {
            "text/plain": [
              "array([3.4, 5.7])"
            ]
          },
          "metadata": {
            "tags": []
          },
          "execution_count": 28
        }
      ]
    },
    {
      "cell_type": "code",
      "metadata": {
        "id": "7ty2RcKsKO3S",
        "outputId": "97ad41c0-70ec-4986-944e-008a04c5ee6e"
      },
      "source": [
        "x0=2\n",
        "xn=2.1\n",
        "n=2\n",
        "EulerMatrix(F,x0,xn,Ya,n)"
      ],
      "execution_count": null,
      "outputs": [
        {
          "output_type": "execute_result",
          "data": {
            "text/plain": [
              "(array([2.  , 2.05, 2.1 ]),\n",
              " array([[ 3.4       ,  6.3335    , 10.57254812],\n",
              "        [ 5.7       ,  5.879     ,  6.62552629]]))"
            ]
          },
          "metadata": {
            "tags": []
          },
          "execution_count": 29
        }
      ]
    },
    {
      "cell_type": "code",
      "metadata": {
        "id": "auaoNcVnKO3T"
      },
      "source": [
        ""
      ],
      "execution_count": null,
      "outputs": []
    },
    {
      "cell_type": "code",
      "metadata": {
        "id": "jxTtI1dgKO3h"
      },
      "source": [
        ""
      ],
      "execution_count": null,
      "outputs": []
    }
  ]
}