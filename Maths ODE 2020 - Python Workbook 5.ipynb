{
 "cells": [
  {
   "cell_type": "markdown",
   "metadata": {},
   "source": [
    "# Maths Ordinary Differential Equations 2020\n",
    "\n",
    "## Section 3 - Numerical Mehods"
   ]
  },
  {
   "cell_type": "markdown",
   "metadata": {},
   "source": [
    "### Import the required libraries "
   ]
  },
  {
   "cell_type": "code",
   "execution_count": 5,
   "metadata": {},
   "outputs": [],
   "source": [
    "import numpy as np\n",
    "from numpy import cos, sin, exp, pi"
   ]
  },
  {
   "cell_type": "code",
   "execution_count": 6,
   "metadata": {},
   "outputs": [],
   "source": [
    "import matplotlib.pyplot as plt"
   ]
  },
  {
   "cell_type": "markdown",
   "metadata": {},
   "source": [
    "# Euler's Method\n",
    "\n",
    "* This python workbook is for solvinf differential equations of the form\n",
    "\n",
    "$$\n",
    "\\frac{dy}{dx} - f(x,y)=0.\n",
    "$$\n",
    "\n",
    "\n",
    "* The funtion $f(x,y)$ is a function of both $x$ and $y$, and defpending on its form, it may or may not be possible to separate the variables of the ODE.\n",
    "\n",
    "\n",
    "* In any case, Euler's method will allow us to solve te ODE numerically.\n",
    "\n",
    "\n",
    "* The algorithm for Euler's method is \n",
    "$$\n",
    "y_{i+1}=y_{i}+h\\cdot f(x_{i},y_{i}).\n",
    "$$\n",
    "\n",
    "\n",
    "## Example 1\n",
    "\n",
    "* Solve the ODE\n",
    "$$\n",
    "\\frac{dy}{dx}=\\frac{x^2+y^2}{10} \\quad y(1.4)=2.5\n",
    "$$\n",
    "on the interval between $x=1.4$ and $x=1.5$ using 5 steps of Euler's method"
   ]
  },
  {
   "cell_type": "markdown",
   "metadata": {},
   "source": [
    "### Solution\n",
    "\n",
    "* We must define the function $f(x,y)=\\frac{x^2+y^2}{10}$ as follows"
   ]
  },
  {
   "cell_type": "code",
   "execution_count": 7,
   "metadata": {},
   "outputs": [],
   "source": [
    "def f(x,y):\n",
    "    return (x**2+y**2)/10"
   ]
  },
  {
   "cell_type": "markdown",
   "metadata": {},
   "source": [
    "* The algorithm for Euler's method is implemented in the cell below:"
   ]
  },
  {
   "cell_type": "code",
   "execution_count": 16,
   "metadata": {},
   "outputs": [],
   "source": [
    "def Euler(f, x0, xn, y0, n):\n",
    "    x = np.linspace(x0,xn,n+1)\n",
    "    h=x[1]-x[0]\n",
    "    y = np.zeros(n+1)\n",
    "    for i in range(n+1):\n",
    "        y[0]=y0\n",
    "        y[i]= y[i-1]+h * f(x[i-1], y[i-1])\n",
    "        x[i]=x[i-1]+h\n",
    "    return y"
   ]
  },
  {
   "cell_type": "code",
   "execution_count": 18,
   "metadata": {},
   "outputs": [
    {
     "data": {
      "text/plain": [
       "(0.020000000000000018,\n",
       " array([2.5       , 2.5171208 , 2.53453579, 2.55225074, 2.57027151,\n",
       "        2.5886041 ]))"
      ]
     },
     "execution_count": 18,
     "metadata": {},
     "output_type": "execute_result"
    }
   ],
   "source": [
    "x0=1.4\n",
    "xn=1.5\n",
    "y0=2.5\n",
    "n=5\n",
    "h=(xn-x0)/n\n",
    "h,Euler(f,x0,xn,y0,n)"
   ]
  },
  {
   "cell_type": "markdown",
   "metadata": {},
   "source": [
    "# The Euler-Heun Method\n",
    "\n",
    "\n",
    "* The Euler-Heun method (or often just Heun's method) is a more accurate version of Euler's method.\n",
    "\n",
    "\n",
    "\n",
    "* It is a more complicated procedure, since each step of the algorithim requires us to apply an intermediate step using Euler's algorithm. "
   ]
  },
  {
   "cell_type": "code",
   "execution_count": 16,
   "metadata": {},
   "outputs": [],
   "source": [
    "def Heun(f, x0, xn, y0, n):\n",
    "    x = np.linspace(x0,xn,n+1)\n",
    "    h=x[1]-x[0]\n",
    "    y = np.zeros(n+1)\n",
    "    ey = np.zeros(n+1)\n",
    "    for i in range(n+1):\n",
    "        y[0]=y0\n",
    "        ey[i]=y[i-1]+h*f(x[i-1],y[i-1])\n",
    "        y[i]=y[i-1]+0.5*h*(f(x[i-1],y[i-1])+f(x[i],ey[i]))\n",
    "    return ey,y"
   ]
  },
  {
   "cell_type": "code",
   "execution_count": null,
   "metadata": {},
   "outputs": [],
   "source": []
  },
  {
   "cell_type": "code",
   "execution_count": null,
   "metadata": {},
   "outputs": [],
   "source": []
  },
  {
   "cell_type": "code",
   "execution_count": null,
   "metadata": {},
   "outputs": [],
   "source": []
  },
  {
   "cell_type": "markdown",
   "metadata": {},
   "source": [
    "# Euler's Method for Matrix Systems"
   ]
  },
  {
   "cell_type": "code",
   "execution_count": 26,
   "metadata": {},
   "outputs": [],
   "source": [
    "def F(x,y1,y2):\n",
    "    return np.array([[x,y1+y2],[y1-y2,x]])"
   ]
  },
  {
   "cell_type": "code",
   "execution_count": 27,
   "metadata": {},
   "outputs": [],
   "source": [
    "def EulerMatrix(F, x0, xn, Ya, n):\n",
    "    x = np.linspace(x0,xn,n+1)\n",
    "    h=x[1]-x[0]\n",
    "    Y = np.array([np.zeros(n+1),np.zeros(n+1)])\n",
    "    for i in range(n+1):\n",
    "        Y[:,0]=Ya\n",
    "        Y[:,i]= Y[:,i-1]+h * np.dot(F(x[i-1], Y[0,i-1],Y[1,i-1]),Y[:,i-1])\n",
    "    return x,Y"
   ]
  },
  {
   "cell_type": "code",
   "execution_count": 28,
   "metadata": {},
   "outputs": [
    {
     "data": {
      "text/plain": [
       "array([3.4, 5.7])"
      ]
     },
     "execution_count": 28,
     "metadata": {},
     "output_type": "execute_result"
    }
   ],
   "source": [
    "Ya=np.array([3.4,5.7])\n",
    "Ya"
   ]
  },
  {
   "cell_type": "code",
   "execution_count": 29,
   "metadata": {},
   "outputs": [
    {
     "data": {
      "text/plain": [
       "(array([2.  , 2.05, 2.1 ]),\n",
       " array([[ 3.4       ,  6.3335    , 10.57254812],\n",
       "        [ 5.7       ,  5.879     ,  6.62552629]]))"
      ]
     },
     "execution_count": 29,
     "metadata": {},
     "output_type": "execute_result"
    }
   ],
   "source": [
    "x0=2\n",
    "xn=2.1\n",
    "n=2\n",
    "EulerMatrix(F,x0,xn,Ya,n)"
   ]
  },
  {
   "cell_type": "code",
   "execution_count": null,
   "metadata": {},
   "outputs": [],
   "source": []
  },
  {
   "cell_type": "code",
   "execution_count": null,
   "metadata": {},
   "outputs": [],
   "source": []
  }
 ],
 "metadata": {
  "kernelspec": {
   "display_name": "Python 3",
   "language": "python",
   "name": "python3"
  },
  "language_info": {
   "codemirror_mode": {
    "name": "ipython",
    "version": 3
   },
   "file_extension": ".py",
   "mimetype": "text/x-python",
   "name": "python",
   "nbconvert_exporter": "python",
   "pygments_lexer": "ipython3",
   "version": "3.8.3"
  }
 },
 "nbformat": 4,
 "nbformat_minor": 2
}
