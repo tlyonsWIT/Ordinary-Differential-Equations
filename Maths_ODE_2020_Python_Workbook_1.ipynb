{
  "nbformat": 4,
  "nbformat_minor": 0,
  "metadata": {
    "colab": {
      "name": "Maths ODE 2020 - Python Workbook 1.ipynb",
      "provenance": [],
      "authorship_tag": "ABX9TyPZv/8jLEWg5cr7RzGL3Fh2",
      "include_colab_link": true
    },
    "kernelspec": {
      "name": "python3",
      "display_name": "Python 3"
    }
  },
  "cells": [
    {
      "cell_type": "markdown",
      "metadata": {
        "id": "view-in-github",
        "colab_type": "text"
      },
      "source": [
        "<a href=\"https://colab.research.google.com/github/tlyonsWIT/Ordinary-Differential-Equations/blob/master/Maths_ODE_2020_Python_Workbook_1.ipynb\" target=\"_parent\"><img src=\"https://colab.research.google.com/assets/colab-badge.svg\" alt=\"Open In Colab\"/></a>"
      ]
    },
    {
      "cell_type": "markdown",
      "metadata": {
        "id": "Ow_wQcUfjWCQ"
      },
      "source": [
        "# ODE 2020 - Python Workbook 1\n",
        "\n",
        "## Solutions of Homogenous Systems\n",
        "\n",
        "\n",
        "### Importing Libraries\n",
        "\n",
        "\n",
        "* For this workbook we will only need the __Sym__bolic __Py__thon __(sympy)__ library.\n",
        "\n",
        "* We import this library as follows:"
      ]
    },
    {
      "cell_type": "code",
      "metadata": {
        "id": "IcAfxTaQj3QD"
      },
      "source": [
        "from sympy import * \n",
        "from sympy import init_printing # For nice output of answers\n",
        "init_printing() # Activate init_printing for th workbook"
      ],
      "execution_count": null,
      "outputs": []
    },
    {
      "cell_type": "markdown",
      "metadata": {
        "id": "NLfnWcwGkVtV"
      },
      "source": [
        "## General Solutions of an Homogeneous ODE\n",
        "\n",
        "\n",
        " We have seen during lectures that the __genreral solution__ of the __ODE__\n",
        "\n",
        "$$\\frac{dy}{dx}+p(x)y=0$$ \n",
        "\n",
        " is given by\n",
        "\n",
        "$$y(x)=Ae^{-\\int p(x)dx},$$\n",
        "\n",
        " where $A$ is an arbitrary constant.\n",
        "\n",
        "\n",
        "\n",
        "\n",
        " ## Lecture Notes 1 - Example 1\n",
        "\n",
        "\n",
        "\n",
        " * Find the general solution of the homogeneous __ODE__\n",
        "\n",
        "\n",
        " $$\\frac{dy}{dx}+\\frac{y}{4x^2}=0.$$"
      ]
    },
    {
      "cell_type": "markdown",
      "metadata": {
        "id": "aIefOp_UlWQZ"
      },
      "source": [
        "### Step 1\n",
        "\n",
        "* Declare symbols for $x$ and $A$."
      ]
    },
    {
      "cell_type": "code",
      "metadata": {
        "id": "3yXk0ajykHb8"
      },
      "source": [
        "A,x=symbols('A x')"
      ],
      "execution_count": null,
      "outputs": []
    },
    {
      "cell_type": "code",
      "metadata": {
        "id": "zRDqTEUMlhxr"
      },
      "source": [
        "A,x"
      ],
      "execution_count": null,
      "outputs": []
    },
    {
      "cell_type": "markdown",
      "metadata": {
        "id": "dBNbvviElpTy"
      },
      "source": [
        "### Step 2:\n",
        "\n",
        "* Define $p(x)$"
      ]
    },
    {
      "cell_type": "code",
      "metadata": {
        "id": "BlPJFGDwljFu"
      },
      "source": [
        "p=1/x**2/4"
      ],
      "execution_count": null,
      "outputs": []
    },
    {
      "cell_type": "code",
      "metadata": {
        "id": "N71jK94Wlv3h"
      },
      "source": [
        "p"
      ],
      "execution_count": null,
      "outputs": []
    },
    {
      "cell_type": "markdown",
      "metadata": {
        "id": "gAi4breJly2h"
      },
      "source": [
        "### Step 3\n",
        "\n",
        "* Integrate $p(x)$"
      ]
    },
    {
      "cell_type": "code",
      "metadata": {
        "id": "9nou_niBlwww"
      },
      "source": [
        "Ip=integrate(p,x)"
      ],
      "execution_count": null,
      "outputs": []
    },
    {
      "cell_type": "code",
      "metadata": {
        "id": "8ixcoQ1ll_Go"
      },
      "source": [
        "Ip"
      ],
      "execution_count": null,
      "outputs": []
    },
    {
      "cell_type": "markdown",
      "metadata": {
        "id": "KPuG14slmCus"
      },
      "source": [
        "### Step 4\n",
        "\n",
        "* Write out the solution $y(x)=A\\exp(-\\int p(x)dx)$."
      ]
    },
    {
      "cell_type": "code",
      "metadata": {
        "id": "_0_yrjRRmCEc"
      },
      "source": [
        "y=A*exp(-Ip)"
      ],
      "execution_count": null,
      "outputs": []
    },
    {
      "cell_type": "code",
      "metadata": {
        "id": "dIxAI1I1l_79"
      },
      "source": [
        "y"
      ],
      "execution_count": null,
      "outputs": []
    },
    {
      "cell_type": "markdown",
      "metadata": {
        "id": "nZdVcQrqmXbC"
      },
      "source": [
        "### Confirm the Solution\n",
        "\n",
        "* Sub this function back into the __ODE__"
      ]
    },
    {
      "cell_type": "code",
      "metadata": {
        "id": "Ixl2czo1mSry"
      },
      "source": [
        "diff(y,x)+p*y==0 # The double == is use to ask if left=right in python."
      ],
      "execution_count": null,
      "outputs": []
    },
    {
      "cell_type": "markdown",
      "metadata": {
        "id": "vmaT0C5smnx4"
      },
      "source": [
        "* We see that $\\frac{dy}{dx}+p(x)y=0$ where $y$ and $p$ are defined above, so $y$ is indeed a solution!"
      ]
    },
    {
      "cell_type": "code",
      "metadata": {
        "id": "omYS8pLJmjd5"
      },
      "source": [
        ""
      ],
      "execution_count": null,
      "outputs": []
    }
  ]
}