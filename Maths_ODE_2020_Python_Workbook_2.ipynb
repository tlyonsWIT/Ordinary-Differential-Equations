{
  "nbformat": 4,
  "nbformat_minor": 0,
  "metadata": {
    "colab": {
      "name": "Maths_ODE_2020_Python_Workbook_1.ipynb",
      "provenance": [],
      "collapsed_sections": [],
      "include_colab_link": true
    },
    "kernelspec": {
      "name": "python3",
      "display_name": "Python 3"
    }
  },
  "cells": [
    {
      "cell_type": "markdown",
      "metadata": {
        "id": "view-in-github",
        "colab_type": "text"
      },
      "source": [
        "<a href=\"https://colab.research.google.com/github/tlyonsWIT/Ordinary-Differential-Equations/blob/master/Maths_ODE_2020_Python_Workbook_2.ipynb\" target=\"_parent\"><img src=\"https://colab.research.google.com/assets/colab-badge.svg\" alt=\"Open In Colab\"/></a>"
      ]
    },
    {
      "cell_type": "markdown",
      "metadata": {
        "id": "Ow_wQcUfjWCQ"
      },
      "source": [
        "# ODE 2020 - Python Workbook 1\n",
        "\n",
        "## Solutions of Homogenous Systems\n",
        "\n",
        "\n",
        "### Importing Libraries\n",
        "\n",
        "\n",
        "* For this workbook we will only need the __Sym__bolic __Py__thon __(sympy)__ library.\n",
        "\n",
        "* We import this library as follows:"
      ]
    },
    {
      "cell_type": "code",
      "metadata": {
        "id": "IcAfxTaQj3QD"
      },
      "source": [
        "from sympy import * \n",
        "from sympy import init_printing # For nice output of answers\n",
        "init_printing() # Activate init_printing for th workbook"
      ],
      "execution_count": 1,
      "outputs": []
    },
    {
      "cell_type": "markdown",
      "metadata": {
        "id": "NLfnWcwGkVtV"
      },
      "source": [
        "## General Solutions of an Homogeneous ODE\n",
        "\n",
        "\n",
        " We have seen during lectures that the __genreral solution__ of the __ODE__\n",
        "\n",
        "$$\\frac{dy}{dx}+p(x)y=0$$ \n",
        "\n",
        " is given by\n",
        "\n",
        "$$y(x)=Ae^{-\\int p(x)dx},$$\n",
        "\n",
        " where $A$ is an arbitrary constant.\n",
        "\n",
        "\n",
        "\n",
        "\n",
        " ## Lecture Notes 1 - Example 1\n",
        "\n",
        "\n",
        "\n",
        " * Find the general solution of the homogeneous __ODE__\n",
        "\n",
        "\n",
        " $$\\frac{dy}{dx}+\\frac{y}{4x^2}=0.$$"
      ]
    },
    {
      "cell_type": "markdown",
      "metadata": {
        "id": "aIefOp_UlWQZ"
      },
      "source": [
        "### Step 1\n",
        "\n",
        "* Declare symbols for $x$ and $A$."
      ]
    },
    {
      "cell_type": "code",
      "metadata": {
        "id": "3yXk0ajykHb8"
      },
      "source": [
        "A,x=symbols('A x')"
      ],
      "execution_count": null,
      "outputs": []
    },
    {
      "cell_type": "code",
      "metadata": {
        "id": "zRDqTEUMlhxr",
        "outputId": "f7281150-c0b7-4f27-b794-1e143fc6584e",
        "colab": {
          "base_uri": "https://localhost:8080/",
          "height": 39
        }
      },
      "source": [
        "A,x"
      ],
      "execution_count": null,
      "outputs": [
        {
          "output_type": "execute_result",
          "data": {
            "image/png": "[encoded data removed]",
            "text/latex": "$$\\left ( A, \\quad x\\right )$$",
            "text/plain": [
              "(A, x)"
            ]
          },
          "metadata": {
            "tags": []
          },
          "execution_count": 14
        }
      ]
    },
    {
      "cell_type": "markdown",
      "metadata": {
        "id": "dBNbvviElpTy"
      },
      "source": [
        "### Step 2:\n",
        "\n",
        "* Define $p(x)$"
      ]
    },
    {
      "cell_type": "code",
      "metadata": {
        "id": "BlPJFGDwljFu"
      },
      "source": [
        "p=1/x**2/4"
      ],
      "execution_count": null,
      "outputs": []
    },
    {
      "cell_type": "code",
      "metadata": {
        "id": "N71jK94Wlv3h",
        "outputId": "30199b75-1841-4f09-adc7-58ecc465b2a0",
        "colab": {
          "base_uri": "https://localhost:8080/",
          "height": 38
        }
      },
      "source": [
        "p"
      ],
      "execution_count": null,
      "outputs": [
        {
          "output_type": "execute_result",
          "data": {
            "image/png": "[encoded data removed]",
            "text/latex": "$$\\frac{1}{4 x^{2}}$$",
            "text/plain": [
              " 1  \n",
              "────\n",
              "   2\n",
              "4⋅x "
            ]
          },
          "metadata": {
            "tags": []
          },
          "execution_count": 17
        }
      ]
    },
    {
      "cell_type": "markdown",
      "metadata": {
        "id": "gAi4breJly2h"
      },
      "source": [
        "### Step 3\n",
        "\n",
        "* Integrate $p(x)$"
      ]
    },
    {
      "cell_type": "code",
      "metadata": {
        "id": "9nou_niBlwww"
      },
      "source": [
        "Ip=integrate(p,x)"
      ],
      "execution_count": null,
      "outputs": []
    },
    {
      "cell_type": "code",
      "metadata": {
        "id": "8ixcoQ1ll_Go",
        "outputId": "7ff4ff76-f4a5-4685-c9df-b6397d20e9a3",
        "colab": {
          "base_uri": "https://localhost:8080/",
          "height": 38
        }
      },
      "source": [
        "Ip"
      ],
      "execution_count": null,
      "outputs": [
        {
          "output_type": "execute_result",
          "data": {
            "image/png": "[encoded data removed]",
            "text/latex": "$$- \\frac{1}{4 x}$$",
            "text/plain": [
              "-1 \n",
              "───\n",
              "4⋅x"
            ]
          },
          "metadata": {
            "tags": []
          },
          "execution_count": 19
        }
      ]
    },
    {
      "cell_type": "markdown",
      "metadata": {
        "id": "KPuG14slmCus"
      },
      "source": [
        "### Step 4\n",
        "\n",
        "* Write out the solution $y(x)=A\\exp(-\\int p(x)dx)$."
      ]
    },
    {
      "cell_type": "code",
      "metadata": {
        "id": "_0_yrjRRmCEc"
      },
      "source": [
        "y=A*exp(-Ip)"
      ],
      "execution_count": null,
      "outputs": []
    },
    {
      "cell_type": "code",
      "metadata": {
        "id": "dIxAI1I1l_79",
        "outputId": "37944085-f488-4751-96b6-6017261d3c81",
        "colab": {
          "base_uri": "https://localhost:8080/",
          "height": 39
        }
      },
      "source": [
        "y"
      ],
      "execution_count": null,
      "outputs": [
        {
          "output_type": "execute_result",
          "data": {
            "image/png": "[encoded data removed]",
            "text/latex": "$$A e^{\\frac{1}{4 x}}$$",
            "text/plain": [
              "    1 \n",
              "   ───\n",
              "   4⋅x\n",
              "A⋅ℯ   "
            ]
          },
          "metadata": {
            "tags": []
          },
          "execution_count": 21
        }
      ]
    },
    {
      "cell_type": "markdown",
      "metadata": {
        "id": "nZdVcQrqmXbC"
      },
      "source": [
        "### Confirm the Solution\n",
        "\n",
        "* Sub this function back into the __ODE__"
      ]
    },
    {
      "cell_type": "code",
      "metadata": {
        "id": "Ixl2czo1mSry",
        "outputId": "badb1e1c-1ab8-4b41-caa2-75042b4aadfe",
        "colab": {
          "base_uri": "https://localhost:8080/",
          "height": 35
        }
      },
      "source": [
        "diff(y,x)+p*y==0 # The double == is use to ask if left=right in python."
      ],
      "execution_count": null,
      "outputs": [
        {
          "output_type": "execute_result",
          "data": {
            "text/plain": [
              "True"
            ]
          },
          "metadata": {
            "tags": []
          },
          "execution_count": 24
        }
      ]
    },
    {
      "cell_type": "markdown",
      "metadata": {
        "id": "vmaT0C5smnx4"
      },
      "source": [
        "* We see that $\\frac{dy}{dx}+p(x)y=0$ where $y$ and $p$ are defined above, so $y$ is indeed a solution!"
      ]
    },
    {
      "cell_type": "code",
      "metadata": {
        "id": "omYS8pLJmjd5"
      },
      "source": [
        ""
      ],
      "execution_count": null,
      "outputs": []
    },
    {
      "cell_type": "markdown",
      "metadata": {
        "id": "YDDxopcLEGGd"
      },
      "source": [
        "# Example 2 - An initial value problem"
      ]
    },
    {
      "cell_type": "code",
      "metadata": {
        "id": "qHWnhLa7EHhr"
      },
      "source": [
        "x,t=symbols('x t')"
      ],
      "execution_count": 2,
      "outputs": []
    },
    {
      "cell_type": "code",
      "metadata": {
        "id": "aAUhOwDVITK_",
        "outputId": "f62125eb-64f8-4109-a5c5-e76bb6e19062",
        "colab": {
          "base_uri": "https://localhost:8080/",
          "height": 38
        }
      },
      "source": [
        "x,t"
      ],
      "execution_count": 3,
      "outputs": [
        {
          "output_type": "execute_result",
          "data": {
            "image/png": "[encoded data removed]",
            "text/latex": "$$\\left ( x, \\quad t\\right )$$",
            "text/plain": [
              "(x, t)"
            ]
          },
          "metadata": {
            "tags": []
          },
          "execution_count": 3
        }
      ]
    },
    {
      "cell_type": "code",
      "metadata": {
        "id": "PUx6Bm5yIUvn"
      },
      "source": [
        ""
      ],
      "execution_count": null,
      "outputs": []
    },
    {
      "cell_type": "markdown",
      "metadata": {
        "id": "PGC2nfV1Ia45"
      },
      "source": [
        "Solve the initial value problem\n",
        "\n",
        "$$\\frac{dy}{dx}+5x^3y=0\\quad y(0.1)=5$$"
      ]
    },
    {
      "cell_type": "code",
      "metadata": {
        "id": "_kQ8MEU2IkiI"
      },
      "source": [
        "def p(x):\n",
        "  return 5*x**3"
      ],
      "execution_count": 4,
      "outputs": []
    },
    {
      "cell_type": "code",
      "metadata": {
        "id": "Nfyi-7guI3yA",
        "outputId": "886a98cf-4bc0-4fa8-f0c6-4f07338bbfec",
        "colab": {
          "base_uri": "https://localhost:8080/",
          "height": 38
        }
      },
      "source": [
        "p(x)"
      ],
      "execution_count": 5,
      "outputs": [
        {
          "output_type": "execute_result",
          "data": {
            "image/png": "[encoded data removed]",
            "text/latex": "$$5 x^{3}$$",
            "text/plain": [
              "   3\n",
              "5⋅x "
            ]
          },
          "metadata": {
            "tags": []
          },
          "execution_count": 5
        }
      ]
    },
    {
      "cell_type": "code",
      "metadata": {
        "id": "CKjPvtX0I4xN",
        "outputId": "fcde1895-7a8a-4208-d430-a8b17a528973",
        "colab": {
          "base_uri": "https://localhost:8080/",
          "height": 38
        }
      },
      "source": [
        "p(t)"
      ],
      "execution_count": 6,
      "outputs": [
        {
          "output_type": "execute_result",
          "data": {
            "image/png": "[encoded data removed]",
            "text/latex": "$$5 t^{3}$$",
            "text/plain": [
              "   3\n",
              "5⋅t "
            ]
          },
          "metadata": {
            "tags": []
          },
          "execution_count": 6
        }
      ]
    },
    {
      "cell_type": "code",
      "metadata": {
        "id": "lF98oqSEI7fu"
      },
      "source": [
        "x0=0.1\n",
        "y0=5"
      ],
      "execution_count": 7,
      "outputs": []
    },
    {
      "cell_type": "code",
      "metadata": {
        "id": "XB861XmhJAPY",
        "outputId": "a283cc4d-c22c-4ca5-c80e-9f07f954d998",
        "colab": {
          "base_uri": "https://localhost:8080/",
          "height": 40
        }
      },
      "source": [
        "IP= integrate(p(t),(t,x0,x))\n",
        "IP"
      ],
      "execution_count": 9,
      "outputs": [
        {
          "output_type": "execute_result",
          "data": {
            "image/png": "[encoded data removed]",
            "text/latex": "$$\\frac{5 x^{4}}{4} - 0.000125$$",
            "text/plain": [
              "   4           \n",
              "5⋅x            \n",
              "──── - 0.000125\n",
              " 4             "
            ]
          },
          "metadata": {
            "tags": []
          },
          "execution_count": 9
        }
      ]
    },
    {
      "cell_type": "code",
      "metadata": {
        "id": "pN3dZpraJGLj",
        "outputId": "df936bc9-f9a7-41ee-ccd0-358a4b35b791",
        "colab": {
          "base_uri": "https://localhost:8080/",
          "height": 42
        }
      },
      "source": [
        "y=y0*exp(-IP)\n",
        "y"
      ],
      "execution_count": 11,
      "outputs": [
        {
          "output_type": "execute_result",
          "data": {
            "image/png": "[encoded data removed]",
            "text/latex": "$$5.00062503906413 e^{- \\frac{5 x^{4}}{4}}$$",
            "text/plain": [
              "                      4 \n",
              "                  -5⋅x  \n",
              "                  ──────\n",
              "                    4   \n",
              "5.00062503906413⋅ℯ      "
            ]
          },
          "metadata": {
            "tags": []
          },
          "execution_count": 11
        }
      ]
    },
    {
      "cell_type": "markdown",
      "metadata": {
        "id": "TVjyOtKJJc_r"
      },
      "source": [
        "# Confirm the solution\n"
      ]
    },
    {
      "cell_type": "code",
      "metadata": {
        "id": "uCziPKjPJS0i",
        "outputId": "87a8763d-a818-479f-b269-b8e73d56becc",
        "colab": {
          "base_uri": "https://localhost:8080/",
          "height": 35
        }
      },
      "source": [
        "diff(y,x)+5*x**3*y==0"
      ],
      "execution_count": 12,
      "outputs": [
        {
          "output_type": "execute_result",
          "data": {
            "text/plain": [
              "True"
            ]
          },
          "metadata": {
            "tags": []
          },
          "execution_count": 12
        }
      ]
    },
    {
      "cell_type": "code",
      "metadata": {
        "id": "HA4HuTnsJmDw",
        "outputId": "32de54cc-c9ca-40e6-f082-fa1a07ac7c2f",
        "colab": {
          "base_uri": "https://localhost:8080/",
          "height": 37
        }
      },
      "source": [
        "y.subs(x,x0)"
      ],
      "execution_count": 15,
      "outputs": [
        {
          "output_type": "execute_result",
          "data": {
            "image/png": "[encoded data removed]",
            "text/latex": "$$5.0$$",
            "text/plain": [
              "5.00000000000000"
            ]
          },
          "metadata": {
            "tags": []
          },
          "execution_count": 15
        }
      ]
    },
    {
      "cell_type": "code",
      "metadata": {
        "id": "rIlCrWvDJvLH"
      },
      "source": [
        ""
      ],
      "execution_count": null,
      "outputs": []
    }
  ]
}